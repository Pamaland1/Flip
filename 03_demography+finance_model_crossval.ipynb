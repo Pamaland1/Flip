{
 "cells": [
  {
   "cell_type": "code",
   "execution_count": 32,
   "metadata": {},
   "outputs": [],
   "source": [
    "import pandas as pd\n",
    "import numpy as np\n",
    "pd.set_option('display.max_columns', None)\n",
    "\n",
    "#plotting\n",
    "import matplotlib.pyplot as plt\n",
    "import seaborn as sns; sns.set(style=\"ticks\", color_codes=True)\n",
    "\n",
    "#preprocessing\n",
    "from sklearn.preprocessing import StandardScaler\n",
    "from imblearn.over_sampling import SMOTE, ADASYN\n",
    "\n",
    "#modelling\n",
    "from sklearn.model_selection import train_test_split, StratifiedKFold\n",
    "from sklearn.model_selection import cross_val_score, cross_val_predict\n",
    "from sklearn.linear_model import LogisticRegression\n",
    "from sklearn.ensemble import RandomForestClassifier, GradientBoostingClassifier\n",
    "from sklearn.neighbors import NearestNeighbors, KNeighborsClassifier\n",
    "from sklearn.naive_bayes import GaussianNB, MultinomialNB\n",
    "from sklearn.tree import DecisionTreeClassifier\n",
    "from sklearn import tree, svm\n",
    "\n",
    "#metrics\n",
    "from sklearn.metrics import recall_score\n",
    "from sklearn.metrics import precision_score\n",
    "from sklearn.metrics import roc_auc_score, roc_curve\n",
    "from sklearn.metrics import f1_score\n",
    "from sklearn.metrics import accuracy_score\n",
    "from sklearn.metrics import confusion_matrix\n"
   ]
  },
  {
   "cell_type": "code",
   "execution_count": 33,
   "metadata": {},
   "outputs": [
    {
     "name": "stderr",
     "output_type": "stream",
     "text": [
      "/Users/agar/opt/anaconda3/envs/metis/lib/python3.7/site-packages/ipykernel_launcher.py:17: SettingWithCopyWarning: \n",
      "A value is trying to be set on a copy of a slice from a DataFrame.\n",
      "Try using .loc[row_indexer,col_indexer] = value instead\n",
      "\n",
      "See the caveats in the documentation: http://pandas.pydata.org/pandas-docs/stable/user_guide/indexing.html#returning-a-view-versus-a-copy\n"
     ]
    }
   ],
   "source": [
    "#import dataset, add hyperparameters\n",
    "multiclass_df = pd.read_csv('/Users/agar/_METIS/exercises/Project_3/data_source/engineered_data')\n",
    "\n",
    "new_features_df = multiclass_df\n",
    "\n",
    "new_features_df[\"super_left_better\"] = multiclass_df['asian_pop']*multiclass_df['asian_vote']*multiclass_df['white_bachelors']\n",
    "new_features_df[\"super_param\"] = multiclass_df['latino_adult_percent']*multiclass_df['latino_pop']*multiclass_df['other_pop']*multiclass_df['state_fips']*multiclass_df['white_bachelors']*multiclass_df['bachelors']*multiclass_df['income_median']*multiclass_df['metro1_percent_pop']*multiclass_df['other_pop']\n",
    "new_features_df[\"super_param_2\"] = new_features_df[\"super_param\"]**2\n",
    "new_features_df[\"super_left\"] = multiclass_df['asian_pop']*multiclass_df['asian_vote']*multiclass_df['asian_adult_percent']*multiclass_df['latino_vote']*multiclass_df['white_bachelors']*multiclass_df['larg1_percent_pop']\n",
    "new_features_df[\"super_right\"] = multiclass_df['white_adult_percent']*multiclass_df['white_pop']*multiclass_df['white_vote']*multiclass_df['white_no_college']*multiclass_df['metro_none_percent_pop']*multiclass_df['metro3_percent_pop']*multiclass_df['metro2_percent_pop']*multiclass_df['native_adult_percent']*multiclass_df['native_pop']*multiclass_df['native_vote']\n",
    "new_features_df[\"super_middle\"] = multiclass_df['black_adult_percent']*multiclass_df['black_pop']*multiclass_df['black_vote']\n",
    "\n",
    "financials_df = pd.read_csv('/Users/agar/_METIS/exercises/Project_3/financials_df.csv')\n",
    "\n",
    "mask_years = new_features_df[\"year\"] != 2010 \n",
    "new_features_years = new_features_df[mask_years]\n",
    "new_features_years['ID_DIST'] = new_features_years['year'].astype(str) + \"-\" + new_features_years['district_id']\n",
    "\n",
    "finance_demo = pd.merge(new_features_years, financials_df, how='left', on=['ID_DIST'])\n",
    "finance_demo = finance_demo.dropna()\n",
    "\n",
    "prev_party_df = pd.read_csv(\"/Users/agar/_METIS/exercises/Project_3/prev_party_id.csv\")\n",
    "finance_demo_prev_part = pd.merge(finance_demo, prev_party_df, how='left', left_on=['year_x', \"district_id_x\"], right_on=['year', \"district_id\"])\n",
    "finance_demo_prev_part = finance_demo_prev_part.fillna(0)"
   ]
  },
  {
   "cell_type": "code",
   "execution_count": 34,
   "metadata": {},
   "outputs": [],
   "source": [
    "#create test and train\n",
    "mask = finance_demo_prev_part[\"year_x\"] == 2018\n",
    "holdout = finance_demo_prev_part[mask]\n",
    "\n",
    "mask_2 = finance_demo_prev_part[\"year\"] != 2018\n",
    "train = finance_demo_prev_part[mask_2]\n",
    "\n",
    "#test: define X feature and y target \n",
    "X_holdout = holdout.drop(['ID_DIST', 'Unnamed: 0_y', 'Cand_State',\n",
    "       'Cand_Office_Dist', 'year_y', 'Unnamed: 0_x', 'year_x', 'district_id_x', 'district_id_y', 'Unnamed: 0', 'district_id', 'party_change_simple', \"district_id\", \"party\", \"candidate_votes\", \"totalvotes\", \"Unnamed: 0\"], axis=1)\n",
    "y_holdout = holdout['party_change_simple']\n",
    "\n",
    "#training: define X feature and y target \n",
    "y_train = train['party_change_simple'].apply(np.int64)\n",
    "X_train = train.drop(['ID_DIST', 'Unnamed: 0_y', 'Cand_State',\n",
    "       'Cand_Office_Dist', 'year_y', 'Unnamed: 0_x', 'year_x', 'district_id_x', 'district_id_y', 'Unnamed: 0', 'district_id', 'party_change_simple', \"district_id\", \"party\", \"candidate_votes\", \"totalvotes\", \"Unnamed: 0\"], axis=1)"
   ]
  },
  {
   "cell_type": "code",
   "execution_count": 6,
   "metadata": {},
   "outputs": [],
   "source": [
    "X_train, y_train = np.array(X_train), np.array(y_train)"
   ]
  },
  {
   "cell_type": "code",
   "execution_count": 24,
   "metadata": {},
   "outputs": [
    {
     "name": "stdout",
     "output_type": "stream",
     "text": [
      "[(0, 1097), (1, 32)]\n"
     ]
    }
   ],
   "source": [
    "from collections import Counter\n",
    "print(sorted(Counter(y_train).items()))"
   ]
  },
  {
   "cell_type": "code",
   "execution_count": 28,
   "metadata": {},
   "outputs": [
    {
     "name": "stderr",
     "output_type": "stream",
     "text": [
      "/Users/agar/opt/anaconda3/envs/metis/lib/python3.7/site-packages/sklearn/model_selection/_split.py:296: FutureWarning: Setting a random_state has no effect since shuffle is False. This will raise an error in 0.24. You should leave random_state to its default (None), or set shuffle=True.\n",
      "  FutureWarning\n",
      "/Users/agar/opt/anaconda3/envs/metis/lib/python3.7/site-packages/sklearn/utils/deprecation.py:87: FutureWarning: Function safe_indexing is deprecated; safe_indexing is deprecated in version 0.22 and will be removed in version 0.24.\n",
      "  warnings.warn(msg, category=FutureWarning)\n",
      "/Users/agar/opt/anaconda3/envs/metis/lib/python3.7/site-packages/sklearn/metrics/_classification.py:1272: UndefinedMetricWarning: Precision is ill-defined and being set to 0.0 due to no predicted samples. Use `zero_division` parameter to control this behavior.\n",
      "  _warn_prf(average, modifier, msg_start, len(result))\n",
      "/Users/agar/opt/anaconda3/envs/metis/lib/python3.7/site-packages/sklearn/metrics/_classification.py:1272: UndefinedMetricWarning: Precision is ill-defined and being set to 0.0 due to no predicted samples. Use `zero_division` parameter to control this behavior.\n",
      "  _warn_prf(average, modifier, msg_start, len(result))\n",
      "/Users/agar/opt/anaconda3/envs/metis/lib/python3.7/site-packages/sklearn/metrics/_classification.py:1272: UndefinedMetricWarning: Precision is ill-defined and being set to 0.0 due to no predicted samples. Use `zero_division` parameter to control this behavior.\n",
      "  _warn_prf(average, modifier, msg_start, len(result))\n"
     ]
    },
    {
     "name": "stdout",
     "output_type": "stream",
     "text": [
      "[(0, 731), (1, 731)]\n",
      "[(0, 366), (1, 11)]\n",
      "[(0, 377)]\n"
     ]
    },
    {
     "name": "stderr",
     "output_type": "stream",
     "text": [
      "/Users/agar/opt/anaconda3/envs/metis/lib/python3.7/site-packages/sklearn/metrics/_classification.py:1272: UndefinedMetricWarning: Precision is ill-defined and being set to 0.0 due to no predicted samples. Use `zero_division` parameter to control this behavior.\n",
      "  _warn_prf(average, modifier, msg_start, len(result))\n",
      "/Users/agar/opt/anaconda3/envs/metis/lib/python3.7/site-packages/sklearn/utils/deprecation.py:87: FutureWarning: Function safe_indexing is deprecated; safe_indexing is deprecated in version 0.22 and will be removed in version 0.24.\n",
      "  warnings.warn(msg, category=FutureWarning)\n",
      "/Users/agar/opt/anaconda3/envs/metis/lib/python3.7/site-packages/sklearn/metrics/_classification.py:1272: UndefinedMetricWarning: Precision is ill-defined and being set to 0.0 due to no predicted samples. Use `zero_division` parameter to control this behavior.\n",
      "  _warn_prf(average, modifier, msg_start, len(result))\n",
      "/Users/agar/opt/anaconda3/envs/metis/lib/python3.7/site-packages/sklearn/metrics/_classification.py:1272: UndefinedMetricWarning: Precision is ill-defined and being set to 0.0 due to no predicted samples. Use `zero_division` parameter to control this behavior.\n",
      "  _warn_prf(average, modifier, msg_start, len(result))\n",
      "/Users/agar/opt/anaconda3/envs/metis/lib/python3.7/site-packages/sklearn/metrics/_classification.py:1272: UndefinedMetricWarning: Precision is ill-defined and being set to 0.0 due to no predicted samples. Use `zero_division` parameter to control this behavior.\n",
      "  _warn_prf(average, modifier, msg_start, len(result))\n"
     ]
    },
    {
     "name": "stdout",
     "output_type": "stream",
     "text": [
      "[(0, 731), (1, 731)]\n",
      "[(0, 366), (1, 10)]\n",
      "[(0, 376)]\n"
     ]
    },
    {
     "name": "stderr",
     "output_type": "stream",
     "text": [
      "/Users/agar/opt/anaconda3/envs/metis/lib/python3.7/site-packages/sklearn/metrics/_classification.py:1272: UndefinedMetricWarning: Precision is ill-defined and being set to 0.0 due to no predicted samples. Use `zero_division` parameter to control this behavior.\n",
      "  _warn_prf(average, modifier, msg_start, len(result))\n",
      "/Users/agar/opt/anaconda3/envs/metis/lib/python3.7/site-packages/sklearn/utils/deprecation.py:87: FutureWarning: Function safe_indexing is deprecated; safe_indexing is deprecated in version 0.22 and will be removed in version 0.24.\n",
      "  warnings.warn(msg, category=FutureWarning)\n",
      "/Users/agar/opt/anaconda3/envs/metis/lib/python3.7/site-packages/sklearn/metrics/_classification.py:1272: UndefinedMetricWarning: Precision is ill-defined and being set to 0.0 due to no predicted samples. Use `zero_division` parameter to control this behavior.\n",
      "  _warn_prf(average, modifier, msg_start, len(result))\n",
      "/Users/agar/opt/anaconda3/envs/metis/lib/python3.7/site-packages/sklearn/metrics/_classification.py:1272: UndefinedMetricWarning: Precision is ill-defined and being set to 0.0 due to no predicted samples. Use `zero_division` parameter to control this behavior.\n",
      "  _warn_prf(average, modifier, msg_start, len(result))\n",
      "/Users/agar/opt/anaconda3/envs/metis/lib/python3.7/site-packages/sklearn/metrics/_classification.py:1272: UndefinedMetricWarning: Precision is ill-defined and being set to 0.0 due to no predicted samples. Use `zero_division` parameter to control this behavior.\n",
      "  _warn_prf(average, modifier, msg_start, len(result))\n"
     ]
    },
    {
     "name": "stdout",
     "output_type": "stream",
     "text": [
      "[(0, 732), (1, 732)]\n",
      "[(0, 365), (1, 11)]\n",
      "[(0, 376)]\n"
     ]
    },
    {
     "name": "stderr",
     "output_type": "stream",
     "text": [
      "/Users/agar/opt/anaconda3/envs/metis/lib/python3.7/site-packages/sklearn/metrics/_classification.py:1272: UndefinedMetricWarning: Precision is ill-defined and being set to 0.0 due to no predicted samples. Use `zero_division` parameter to control this behavior.\n",
      "  _warn_prf(average, modifier, msg_start, len(result))\n"
     ]
    }
   ],
   "source": [
    "#split - crossval fail\n",
    "skf = StratifiedKFold(n_splits=3, random_state=42, shuffle=False)\n",
    "cv_lr_re, cv_gnb_re, cv_dtc_re, cv_rfc_re, cv_svm_re, cv_knn_re = [], [], [], [], [], [] #collect the validation results for both models\n",
    "cv_lr_pre, cv_gnb_pre, cv_dtc_pre, cv_rfc_pre, cv_svm_pre, cv_knn_pre = [], [], [], [], [], []\n",
    "\n",
    "for train_ind, val_ind in skf.split(X_train, y_train):\n",
    "    \n",
    "    X_tr_skf, y_tr_skf = X_train[train_ind], y_train[train_ind]\n",
    "    #oversample minority class 1\n",
    "    X_tr_smote, y_tr = SMOTE().fit_resample(X_tr_skf, y_tr_skf)\n",
    "    #standar scale\n",
    "    scaler = StandardScaler()\n",
    "    X_tr = scaler.fit_transform(X_tr_smote)\n",
    "    \n",
    "    X_val, y_val = X_train[val_ind], y_train[val_ind]\n",
    "    X_scaled_val = scaler.transform(X_val)\n",
    "    \n",
    "    print(sorted(Counter(y_tr).items()))\n",
    "    print(sorted(Counter(y_val).items()))\n",
    "    \n",
    "    #fit models\n",
    "    lr=LogisticRegression(max_iter=10000)\n",
    "    lr.fit(X_tr, y_tr)\n",
    "\n",
    "    y_pred_lr=lr.predict(X_val)\n",
    "    print(sorted(Counter(y_pred_lr).items()))\n",
    "    recall_lr = recall_score(y_val, y_pred_lr)\n",
    "    precision_lr = precision_score(y_val, y_pred_lr)\n",
    "    cv_lr_re.append(recall_lr)\n",
    "    cv_lr_pre.append(precision_lr)\n",
    "\n",
    "    knn = KNeighborsClassifier(n_neighbors=10)\n",
    "    knn.fit(X_tr, y_tr)\n",
    "\n",
    "    y_pred_knn=knn.predict(X_val)\n",
    "    recall_knn = recall_score(y_val, y_pred_knn)\n",
    "    precision_knn = precision_score(y_val, y_pred_knn)\n",
    "    cv_knn_re.append(recall_knn)\n",
    "    cv_knn_pre.append(precision_knn)\n",
    "\n",
    "    gnb = GaussianNB()\n",
    "    gnb.fit(X_tr, y_tr)\n",
    "\n",
    "    y_pred_gnb=gnb.predict(X_val)\n",
    "    recall_gnb = recall_score(y_val, y_pred_gnb)\n",
    "    precision_gnb = precision_score(y_val, y_pred_gnb)\n",
    "    cv_gnb_re.append(recall_gnb)\n",
    "    cv_gnb_pre.append(precision_gnb)\n",
    "\n",
    "    svm_ = svm.SVC(probability = True)\n",
    "    svm_.fit(X_tr, y_tr)\n",
    "    \n",
    "    y_pred_svm=svm_.predict(X_val)\n",
    "    recall_svm = recall_score(y_val, y_pred_svm)\n",
    "    precision_svm = precision_score(y_val, y_pred_svm)\n",
    "    cv_svm_re.append(recall_svm)\n",
    "    cv_svm_pre.append(precision_svm)\n",
    "    \n",
    "    \"\"\"\n",
    "    dtc = DecisionTreeClassifier(random_state=0)\n",
    "    dtc.fit(X_tr, y_tr)\n",
    "\n",
    "    y_pred_dtc=dtc.predict(X_val)\n",
    "    recall_dtc = recall_score(y_val, y_pred_dtc)\n",
    "    precision_dtc = precision_score(y_val, y_pred_dtc)\n",
    "    cv_dtc_re.append(recall_dtc)\n",
    "    cv_dtc_pre.append(precision_dtc)\n",
    "    \n",
    "    rfc = RandomForestClassifier() \n",
    "    rfc.fit(X_tr, y_tr)\n",
    "    \n",
    "    y_pred_rfc=rfc.predict(X_val)\n",
    "    recall_rfc = recall_score(y_val, y_pred_rfc)\n",
    "    precision_rfc = precision_score(y_val, y_pred_rfc)\n",
    "    cv_rfc_re.append(recall_rfc)\n",
    "    cv_rfc_pre.append(precision_rfc)\n",
    "    \"\"\"\n"
   ]
  },
  {
   "cell_type": "code",
   "execution_count": 26,
   "metadata": {},
   "outputs": [
    {
     "name": "stdout",
     "output_type": "stream",
     "text": [
      "LR:  \n",
      "\n",
      "Simple recall scores:  [0.0, 0.0, 0.0]\n",
      "Simple precision scores:  [0.0, 0.0, 0.0] \n",
      "\n",
      "GNB:  \n",
      "\n",
      "Simple recall scores:  [0.0, 0.0, 0.0]\n",
      "Simple precision scores:  [0.0, 0.0, 0.0] \n",
      "\n",
      "KNN:  \n",
      "\n",
      "Simple recall scores:  [0.0, 0.0, 0.0]\n",
      "Simple precision scores:  [0.0, 0.0, 0.0] \n",
      "\n",
      "SVM:  \n",
      "\n",
      "Simple recall scores:  [0.0, 0.0, 0.0]\n",
      "Simple precision scores:  [0.0, 0.0, 0.0] \n",
      "\n",
      "LR:  \n",
      "\n",
      "mean recall : 0.000 +- 0.000\n",
      "mean precision : 0.000 +- 0.000\n",
      "GNB:  \n",
      "\n",
      "mean recall : 0.000 +- 0.000\n",
      "mean precision : 0.000 +- 0.000\n",
      "KNN:  \n",
      "\n",
      "mean recall : 0.000 +- 0.000\n",
      "mean precision : 0.000 +- 0.000\n",
      "SVM:  \n",
      "\n",
      "mean recall : 0.000 +- 0.000\n",
      "mean precision : 0.000 +- 0.000\n"
     ]
    }
   ],
   "source": [
    "print('LR: ','\\n')\n",
    "print('Simple recall scores: ', cv_lr_re)\n",
    "print('Simple precision scores: ', cv_lr_pre, '\\n')\n",
    "\n",
    "print('GNB: ','\\n')\n",
    "print('Simple recall scores: ', cv_gnb_re)\n",
    "print('Simple precision scores: ', cv_gnb_pre, '\\n')\n",
    "\n",
    "print('KNN: ','\\n')\n",
    "print('Simple recall scores: ', cv_knn_re)\n",
    "print('Simple precision scores: ', cv_knn_pre, '\\n')\n",
    "\n",
    "print('SVM: ','\\n')\n",
    "print('Simple recall scores: ', cv_svm_re)\n",
    "print('Simple precision scores: ', cv_svm_pre, '\\n')\n",
    "\n",
    "print('LR: ','\\n')\n",
    "print(f'mean recall : {np.mean(cv_lr_re):.3f} +- {np.std(cv_lr_re):.3f}')\n",
    "print(f'mean precision : {np.mean(cv_lr_re):.3f} +- {np.std(cv_lr_re):.3f}')\n",
    "\n",
    "print('GNB: ','\\n')\n",
    "print(f'mean recall : {np.mean(cv_gnb_re):.3f} +- {np.std(cv_gnb_re):.3f}')\n",
    "print(f'mean precision : {np.mean(cv_gnb_re):.3f} +- {np.std(cv_gnb_re):.3f}')\n",
    "\n",
    "print('KNN: ','\\n')\n",
    "print(f'mean recall : {np.mean(cv_knn_re):.3f} +- {np.std(cv_knn_re):.3f}')\n",
    "print(f'mean precision : {np.mean(cv_knn_re):.3f} +- {np.std(cv_knn_re):.3f}')\n",
    "\n",
    "print('SVM: ','\\n')\n",
    "print(f'mean recall : {np.mean(cv_svm_re):.3f} +- {np.std(cv_svm_re):.3f}')\n",
    "print(f'mean precision : {np.mean(cv_svm_re):.3f} +- {np.std(cv_svm_re):.3f}')"
   ]
  }
 ],
 "metadata": {
  "kernelspec": {
   "display_name": "Python [conda env:metis] *",
   "language": "python",
   "name": "conda-env-metis-py"
  },
  "language_info": {
   "codemirror_mode": {
    "name": "ipython",
    "version": 3
   },
   "file_extension": ".py",
   "mimetype": "text/x-python",
   "name": "python",
   "nbconvert_exporter": "python",
   "pygments_lexer": "ipython3",
   "version": "3.7.4"
  }
 },
 "nbformat": 4,
 "nbformat_minor": 4
}
